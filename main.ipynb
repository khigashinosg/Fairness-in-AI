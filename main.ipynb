{
 "cells": [
  {
   "cell_type": "markdown",
   "metadata": {},
   "source": [
    "# Imports and Data Setup Code (from Spec Sheet)"
   ]
  },
  {
   "cell_type": "code",
   "execution_count": 2,
   "metadata": {},
   "outputs": [
    {
     "name": "stderr",
     "output_type": "stream",
     "text": [
      "WARNING:root:No module named 'tempeh': LawSchoolGPADataset will be unavailable. To install, run:\n",
      "pip install 'aif360[LawSchoolGPA]'\n",
      "/Users/kyhi2018/Desktop/Imperial/Ethics, Fairness, and Explainability in AI/CW1 - Fairness/Fairness-in-AI/venv/lib/python3.11/site-packages/aif360/datasets/standard_dataset.py:143: FutureWarning: Setting an item of incompatible dtype is deprecated and will raise an error in a future version of pandas. Value '1.0' has dtype incompatible with bool, please explicitly cast to a compatible dtype first.\n",
      "  df.loc[pos, label_name] = favorable_label\n"
     ]
    }
   ],
   "source": [
    "from folktables import folktables\n",
    "from folktables import ACSDataSource\n",
    "import numpy as np\n",
    "\n",
    "# (Age) must be greater than 16 and less than 90,\n",
    "# and (Person weight) must be greater than or equal to 1\n",
    "def employment_filter(data):\n",
    "    \"\"\"Filters for the employment prediction task\"\"\"\n",
    "    df = data\n",
    "    df = df[df['AGEP'] > 16]\n",
    "    df = df[df['AGEP'] < 90]\n",
    "    df = df[df['PWGTP'] >= 1]\n",
    "    return df\n",
    "\n",
    "ACSEmployment = folktables.BasicProblem(\n",
    "    features=[\n",
    "        'AGEP',  # age; for range of values of features please check Appendix B.4 of Retiring Adult: New Datasets for Fair Machine Learning NeurIPS 2021 paper\n",
    "        'SCHL',  # educational attainment\n",
    "        'MAR',   # marital status\n",
    "        'RELP',  # relationship\n",
    "        'DIS',   # disability recode\n",
    "        'ESP',   # employment status of parents\n",
    "        'CIT',   # citizenship status\n",
    "        'MIG',   # mobility status (lived here 1 year ago)\n",
    "        'MIL',   # military service\n",
    "        'ANC',   # ancestry recode\n",
    "        'NATIVITY',  # nativity\n",
    "        'DEAR',   # hearing difficulty\n",
    "        'DEYE',   # vision difficulty\n",
    "        'DREM',   # cognitive difficulty\n",
    "        'SEX',    # sex\n",
    "        'RAC1P',  # recoded detailed race code\n",
    "        'GCL',    # grandparents living with grandchildren\n",
    "    ],\n",
    "    target='ESR',  # employment status recode\n",
    "    target_transform=lambda x: x == 1,\n",
    "    group='DIS',\n",
    "    preprocess=employment_filter,\n",
    "    postprocess=lambda x: np.nan_to_num(x, -1),\n",
    ")\n",
    "\n",
    "data_source = ACSDataSource(survey_year='2018', horizon='1-Year', survey='person')\n",
    "acs_data = data_source.get_data(states=[\"FL\"], download=True)  # data for Florida state\n",
    "\n",
    "features, label, group = ACSEmployment.df_to_numpy(acs_data)\n",
    "\n",
    "from aif360.datasets import StandardDataset\n",
    "import pandas as pd\n",
    "import numpy as np\n",
    "\n",
    "data = pd.DataFrame(features, columns=ACSEmployment.features)\n",
    "data['label'] = label\n",
    "\n",
    "favorable_classes = [True]\n",
    "protected_attribute_names = [ACSEmployment.group]\n",
    "privileged_classes = np.array([[1]])\n",
    "\n",
    "data_for_aif = StandardDataset(\n",
    "    data,\n",
    "    label_name='label',\n",
    "    favorable_classes=favorable_classes,\n",
    "    protected_attribute_names=protected_attribute_names,\n",
    "    privileged_classes=privileged_classes\n",
    ")\n",
    "\n",
    "privileged_groups = [{'DIS': 1}]\n",
    "unprivileged_groups = [{'DIS': 2}]"
   ]
  },
  {
   "cell_type": "markdown",
   "metadata": {},
   "source": [
    "# Task 1"
   ]
  },
  {
   "cell_type": "code",
   "execution_count": 14,
   "metadata": {},
   "outputs": [
    {
     "name": "stdout",
     "output_type": "stream",
     "text": [
      "Training model with C = 1e-08 and solver = newton-cg\n"
     ]
    },
    {
     "name": "stderr",
     "output_type": "stream",
     "text": [
      "/var/folders/3v/n0qzq7z56gj9ts7dnzkhpbr80000gn/T/ipykernel_54783/536532560.py:66: FutureWarning: The behavior of DataFrame concatenation with empty or all-NA entries is deprecated. In a future version, this will no longer exclude empty or all-NA columns when determining the result dtypes. To retain the old behavior, exclude the relevant entries before the concat operation.\n",
      "  results = pd.concat([results, new_result], ignore_index=True)\n"
     ]
    },
    {
     "name": "stdout",
     "output_type": "stream",
     "text": [
      "Training model with C = 1e-08 and solver = lbfgs\n",
      "Training model with C = 1e-08 and solver = liblinear\n",
      "Training model with C = 1e-08 and solver = sag\n",
      "Training model with C = 1e-08 and solver = saga\n",
      "Training model with C = 1e-07 and solver = newton-cg\n",
      "Training model with C = 1e-07 and solver = lbfgs\n",
      "Training model with C = 1e-07 and solver = liblinear\n",
      "Training model with C = 1e-07 and solver = sag\n",
      "Training model with C = 1e-07 and solver = saga\n",
      "Training model with C = 1e-06 and solver = newton-cg\n",
      "Training model with C = 1e-06 and solver = lbfgs\n",
      "Training model with C = 1e-06 and solver = liblinear\n",
      "Training model with C = 1e-06 and solver = sag\n",
      "Training model with C = 1e-06 and solver = saga\n",
      "Training model with C = 1e-05 and solver = newton-cg\n",
      "Training model with C = 1e-05 and solver = lbfgs\n",
      "Training model with C = 1e-05 and solver = liblinear\n",
      "Training model with C = 1e-05 and solver = sag\n",
      "Training model with C = 1e-05 and solver = saga\n",
      "Training model with C = 0.0001 and solver = newton-cg\n",
      "Training model with C = 0.0001 and solver = lbfgs\n",
      "Training model with C = 0.0001 and solver = liblinear\n",
      "Training model with C = 0.0001 and solver = sag\n",
      "Training model with C = 0.0001 and solver = saga\n",
      "Training model with C = 0.001 and solver = newton-cg\n",
      "Training model with C = 0.001 and solver = lbfgs\n",
      "Training model with C = 0.001 and solver = liblinear\n",
      "Training model with C = 0.001 and solver = sag\n",
      "Training model with C = 0.001 and solver = saga\n",
      "Training model with C = 0.01 and solver = newton-cg\n",
      "Training model with C = 0.01 and solver = lbfgs\n",
      "Training model with C = 0.01 and solver = liblinear\n",
      "Training model with C = 0.01 and solver = sag\n",
      "Training model with C = 0.01 and solver = saga\n",
      "Training model with C = 0.1 and solver = newton-cg\n",
      "Training model with C = 0.1 and solver = lbfgs\n",
      "Training model with C = 0.1 and solver = liblinear\n",
      "Training model with C = 0.1 and solver = sag\n",
      "Training model with C = 0.1 and solver = saga\n",
      "Training model with C = 1 and solver = newton-cg\n",
      "Training model with C = 1 and solver = lbfgs\n",
      "Training model with C = 1 and solver = liblinear\n",
      "Training model with C = 1 and solver = sag\n",
      "Training model with C = 1 and solver = saga\n"
     ]
    }
   ],
   "source": [
    "from sklearn.linear_model import LogisticRegression\n",
    "from sklearn.preprocessing import StandardScaler\n",
    "from aif360.metrics import ClassificationMetric\n",
    "import pandas as pd\n",
    "import joblib\n",
    "\n",
    "# Split the dataset into train-val and test sets\n",
    "train_and_val_data, test_data = data_for_aif.split([0.7], shuffle=True, seed=0)\n",
    "\n",
    "# Set up loop for hyperparameter tuning/exploration (C, regularisation strength)\n",
    "results = pd.DataFrame(columns=['C', 'Solver','Mean accuracy', 'Mean EOD'])\n",
    "\n",
    "best_accuracy = 0 # initialize best accuracy\n",
    "best_eod = 1 # initialize best EOD\n",
    "\n",
    "for C in [ 10**i for i in range(-8, 1, 1)]: # loop through different C values\n",
    "    for solver in ['newton-cg', 'lbfgs', 'liblinear', 'sag', 'saga']: # loop through different solvers\n",
    "        print(\"Training model with C =\", C, \"and solver =\", solver)\n",
    "        \n",
    "        # Initialise model\n",
    "        model = LogisticRegression(solver=solver, C=C, random_state=0)\n",
    "\n",
    "        # Set up loop for different train-val splits\n",
    "        accuracy_list = [] # initialize list to store accuracy values\n",
    "        eod_list = [] # initialize list to store EOD values\n",
    "\n",
    "        for seed_index in [10*i for i in range(5)]:\n",
    "            # Split train-val set into train and val sets\n",
    "            train_data, val_data = train_and_val_data.split([0.8], shuffle=True, seed=seed_index)\n",
    "\n",
    "            # Normalize the train and val datasets\n",
    "            scale_orig = StandardScaler()\n",
    "            x_train = scale_orig.fit_transform(train_data.features)\n",
    "            y_train = train_data.labels.ravel()\n",
    "            x_val = scale_orig.transform(val_data.features)\n",
    "            y_val = val_data.labels.ravel()\n",
    "\n",
    "            # Model training and prediction\n",
    "            model.fit(x_train,y_train)\n",
    "            predictions = model.predict(x_val)\n",
    "            val_pred = val_data.copy()\n",
    "            val_pred.labels = predictions\n",
    "\n",
    "            # Metrics\n",
    "            metrics = ClassificationMetric(val_data, val_pred, unprivileged_groups=unprivileged_groups, privileged_groups=privileged_groups)\n",
    "            eod = (metrics.equal_opportunity_difference()) # Equal opportunity difference\n",
    "            \n",
    "            # Save model if it has the best accuracy or EOD\n",
    "            if metrics.accuracy() > best_accuracy:\n",
    "                joblib.dump(model, 'std_model_accuracy.joblib')\n",
    "                best_accuracy = metrics.accuracy()\n",
    "            if abs(metrics.equal_opportunity_difference()) < best_eod:\n",
    "                joblib.dump(model, 'std_model_eod.joblib')\n",
    "                best_eod = abs(metrics.equal_opportunity_difference())\n",
    "            \n",
    "            # Store accuracy and EOD values\n",
    "            accuracy_list.append(metrics.accuracy())\n",
    "            eod_list.append(eod)\n",
    "        \n",
    "        # Calculate mean accuracy and EOD values and append to lists\n",
    "        mean_accuracy = np.mean(accuracy_list)\n",
    "        mean_eod = np.mean(eod_list)\n",
    "        \n",
    "        # Append results to dataframe\n",
    "        new_result  = pd.DataFrame([[C, solver, mean_accuracy, mean_eod]], columns=['C', 'Solver','Mean accuracy', 'Mean EOD'])\n",
    "        results = pd.concat([results, new_result], ignore_index=True)"
   ]
  },
  {
   "cell_type": "markdown",
   "metadata": {},
   "source": [
    "### Training and Validation Results"
   ]
  },
  {
   "cell_type": "code",
   "execution_count": 75,
   "metadata": {},
   "outputs": [
    {
     "name": "stdout",
     "output_type": "stream",
     "text": [
      "Best accuracy:\n",
      "         C     Solver  Mean accuracy  Mean EOD\n",
      "25  0.001  newton-cg        0.72007 -0.018474\n",
      "29  0.001       saga        0.72007 -0.018457 \n",
      "\n",
      "Best EOD:\n",
      "        C Solver  Mean accuracy  Mean EOD\n",
      "34  0.01   saga       0.719925 -0.022143 \n",
      "\n",
      "Lowest non-zero EOD:\n",
      "         C Solver  Mean accuracy  Mean EOD\n",
      "28  0.001    sag       0.720036 -0.018224 \n",
      "\n"
     ]
    }
   ],
   "source": [
    "# Find highest accuracy and lowest EOD\n",
    "highest_accuracy = results['Mean accuracy'].max()\n",
    "lowest_eod = results['Mean EOD'].min() \n",
    "\n",
    "# Find lowest EOD that is not 0\n",
    "lowest_nonzero_eod = results.loc[results['Mean EOD'] != 0]['Mean EOD'].abs().min()\n",
    "\n",
    "# Find the corresponding C and solver values\n",
    "best_accuracy = results.loc[results['Mean accuracy'] == highest_accuracy]\n",
    "best_eod = results.loc[results['Mean EOD'] == lowest_eod]\n",
    "best_nonzero_eod = results.loc[(results['Mean EOD'] == lowest_nonzero_eod) | (results['Mean EOD'] == -lowest_nonzero_eod)]\n",
    "\n",
    "print(f\"Best accuracy:\\n\", best_accuracy, f'\\n')\n",
    "print(f\"Best EOD:\\n\", best_eod, f'\\n')\n",
    "print(f\"Lowest non-zero EOD:\\n\", best_nonzero_eod, f'\\n')"
   ]
  },
  {
   "cell_type": "markdown",
   "metadata": {},
   "source": [
    "### Test Results"
   ]
  },
  {
   "cell_type": "code",
   "execution_count": 18,
   "metadata": {},
   "outputs": [
    {
     "name": "stdout",
     "output_type": "stream",
     "text": [
      "Most accurate model:\n",
      "Accuracy: 0.7523310487727127\n",
      "EOD: 0.6736529561484942 \n",
      "\n",
      "Best EOD model:\n",
      "Accuracy: 0.525880618425247\n",
      "EOD: 0.0\n"
     ]
    }
   ],
   "source": [
    "# Load the best model\n",
    "model_accuracy = joblib.load('std_model_accuracy.joblib')\n",
    "model_eod = joblib.load('std_model_eod.joblib')\n",
    "\n",
    "# Normalize the test dataset\n",
    "scale_orig = StandardScaler()\n",
    "x_test = scale_orig.fit_transform(test_data.features)\n",
    "y_test = test_data.labels.ravel()\n",
    "\n",
    "# Model prediction\n",
    "predictions_accuracy = model_accuracy.predict(x_test)\n",
    "predictions_eod = model_eod.predict(x_test)\n",
    "\n",
    "# Create test dataset with predictions\n",
    "test_pred_accuracy = test_data.copy()\n",
    "test_pred_accuracy.labels = predictions_accuracy\n",
    "test_pred_eod = test_data.copy()\n",
    "test_pred_eod.labels = predictions_eod\n",
    "\n",
    "# Metrics\n",
    "metrics_best_accuracy = ClassificationMetric(test_data, test_pred_accuracy, unprivileged_groups=unprivileged_groups, privileged_groups=privileged_groups)\n",
    "best_accuracy_accuracy = metrics_best_accuracy.accuracy()\n",
    "best_accuracy_eod = metrics_best_accuracy.equal_opportunity_difference()\n",
    "\n",
    "metrics_best_eod = ClassificationMetric(test_data, test_pred_eod, unprivileged_groups=unprivileged_groups, privileged_groups=privileged_groups)\n",
    "best_eod_accuracy = metrics_best_eod.accuracy()\n",
    "best_eod_eod = metrics_best_eod.equal_opportunity_difference()\n",
    "\n",
    "# Print results\n",
    "print(\"Most accurate model:\")\n",
    "print(f\"Accuracy: {best_accuracy_accuracy}\")\n",
    "print(f\"EOD: {best_accuracy_eod}\", f'\\n')\n",
    "print(\"Best EOD model:\")\n",
    "print(f\"Accuracy: {best_eod_accuracy}\")\n",
    "print(f\"EOD: {best_eod_eod}\")\n"
   ]
  },
  {
   "cell_type": "markdown",
   "metadata": {},
   "source": [
    "# Task 2"
   ]
  },
  {
   "cell_type": "code",
   "execution_count": 20,
   "metadata": {},
   "outputs": [
    {
     "name": "stdout",
     "output_type": "stream",
     "text": [
      "Training model with C = 1e-08 and solver = newton-cg\n"
     ]
    },
    {
     "name": "stderr",
     "output_type": "stream",
     "text": [
      "/var/folders/3v/n0qzq7z56gj9ts7dnzkhpbr80000gn/T/ipykernel_54783/2889587750.py:71: FutureWarning: The behavior of DataFrame concatenation with empty or all-NA entries is deprecated. In a future version, this will no longer exclude empty or all-NA columns when determining the result dtypes. To retain the old behavior, exclude the relevant entries before the concat operation.\n",
      "  results = pd.concat([results, new_result], ignore_index=True)\n"
     ]
    },
    {
     "name": "stdout",
     "output_type": "stream",
     "text": [
      "Training model with C = 1e-08 and solver = lbfgs\n",
      "Training model with C = 1e-08 and solver = liblinear\n",
      "Training model with C = 1e-08 and solver = sag\n",
      "Training model with C = 1e-08 and solver = saga\n",
      "Training model with C = 1e-07 and solver = newton-cg\n",
      "Training model with C = 1e-07 and solver = lbfgs\n",
      "Training model with C = 1e-07 and solver = liblinear\n",
      "Training model with C = 1e-07 and solver = sag\n",
      "Training model with C = 1e-07 and solver = saga\n",
      "Training model with C = 1e-06 and solver = newton-cg\n",
      "Training model with C = 1e-06 and solver = lbfgs\n",
      "Training model with C = 1e-06 and solver = liblinear\n",
      "Training model with C = 1e-06 and solver = sag\n",
      "Training model with C = 1e-06 and solver = saga\n",
      "Training model with C = 1e-05 and solver = newton-cg\n",
      "Training model with C = 1e-05 and solver = lbfgs\n",
      "Training model with C = 1e-05 and solver = liblinear\n",
      "Training model with C = 1e-05 and solver = sag\n",
      "Training model with C = 1e-05 and solver = saga\n",
      "Training model with C = 0.0001 and solver = newton-cg\n",
      "Training model with C = 0.0001 and solver = lbfgs\n",
      "Training model with C = 0.0001 and solver = liblinear\n",
      "Training model with C = 0.0001 and solver = sag\n",
      "Training model with C = 0.0001 and solver = saga\n",
      "Training model with C = 0.001 and solver = newton-cg\n",
      "Training model with C = 0.001 and solver = lbfgs\n",
      "Training model with C = 0.001 and solver = liblinear\n",
      "Training model with C = 0.001 and solver = sag\n",
      "Training model with C = 0.001 and solver = saga\n",
      "Training model with C = 0.01 and solver = newton-cg\n",
      "Training model with C = 0.01 and solver = lbfgs\n",
      "Training model with C = 0.01 and solver = liblinear\n",
      "Training model with C = 0.01 and solver = sag\n",
      "Training model with C = 0.01 and solver = saga\n",
      "Training model with C = 0.1 and solver = newton-cg\n",
      "Training model with C = 0.1 and solver = lbfgs\n",
      "Training model with C = 0.1 and solver = liblinear\n",
      "Training model with C = 0.1 and solver = sag\n",
      "Training model with C = 0.1 and solver = saga\n",
      "Training model with C = 1 and solver = newton-cg\n",
      "Training model with C = 1 and solver = lbfgs\n",
      "Training model with C = 1 and solver = liblinear\n",
      "Training model with C = 1 and solver = sag\n",
      "Training model with C = 1 and solver = saga\n"
     ]
    }
   ],
   "source": [
    "from sklearn.linear_model import LogisticRegression\n",
    "from sklearn.preprocessing import StandardScaler\n",
    "from aif360.metrics import ClassificationMetric\n",
    "from aif360.algorithms.preprocessing import Reweighing\n",
    "import pandas as pd\n",
    "import joblib\n",
    "\n",
    "# Split the dataset into train-val and test sets\n",
    "train_and_val_data, test_data = data_for_aif.split([0.7], shuffle=True, seed=0)\n",
    "\n",
    "# Set up loop for hyperparameter tuning/exploration (C, regularisation strength)\n",
    "results = pd.DataFrame(columns=['C', 'Solver','Mean accuracy', 'Mean EOD'])\n",
    "\n",
    "best_accuracy = 0 # initialize best accuracy\n",
    "best_eod = 1 # initialize best EOD\n",
    "\n",
    "for C in [ 10**i for i in range(-8, 1, 1)]: # loop through different C values\n",
    "    for solver in ['newton-cg', 'lbfgs', 'liblinear', 'sag', 'saga']: # loop through different solvers\n",
    "        print(\"Training model with C =\", C, \"and solver =\", solver)\n",
    "        \n",
    "        # Initialise model\n",
    "        model = LogisticRegression(solver=solver, C=C, random_state=0)\n",
    "\n",
    "        # Set up loop for different train-val splits\n",
    "        accuracy_list = [] # initialize list to store accuracy values\n",
    "        eod_list = [] # initialize list to store EOD values\n",
    "\n",
    "        for seed_index in [10*i for i in range(5)]:\n",
    "            # Split train-val set into train and val sets\n",
    "            train_data, val_data = train_and_val_data.split([0.8], shuffle=True, seed=seed_index)\n",
    "\n",
    "            # Transform the original dataset via reweighing\n",
    "            RW = Reweighing(unprivileged_groups=unprivileged_groups, privileged_groups=privileged_groups)\n",
    "            train_data = RW.fit_transform(train_data)\n",
    "            \n",
    "            # Normalize the train and val datasets\n",
    "            scale_orig = StandardScaler()\n",
    "            x_train = scale_orig.fit_transform(train_data.features)\n",
    "            y_train = train_data.labels.ravel()\n",
    "            x_val = scale_orig.transform(val_data.features)\n",
    "            y_val = val_data.labels.ravel()\n",
    "            \n",
    "            # Model training and prediction\n",
    "            model.fit(x_train, y_train, sample_weight=train_data.instance_weights)\n",
    "            predictions = model.predict(x_val)\n",
    "            val_pred = val_data.copy()\n",
    "            val_pred.labels = predictions\n",
    "\n",
    "            # Metrics\n",
    "            metrics = ClassificationMetric(val_data, val_pred, unprivileged_groups=unprivileged_groups, privileged_groups=privileged_groups)\n",
    "            eod = (metrics.equal_opportunity_difference()) # Equal opportunity difference\n",
    "            \n",
    "            # Save model if it has the best accuracy or EOD\n",
    "            if metrics.accuracy() > best_accuracy:\n",
    "                joblib.dump(model, 'fair_model_accuracy.joblib')\n",
    "                best_accuracy = metrics.accuracy()\n",
    "            if abs(metrics.equal_opportunity_difference()) < best_eod:\n",
    "                joblib.dump(model, 'fair_model_eod.joblib')\n",
    "                best_eod = abs(metrics.equal_opportunity_difference())\n",
    "            \n",
    "            # Store accuracy and EOD values\n",
    "            accuracy_list.append(metrics.accuracy())\n",
    "            eod_list.append(eod)\n",
    "        \n",
    "        # Calculate mean accuracy and EOD values and append to lists\n",
    "        mean_accuracy = np.mean(accuracy_list)\n",
    "        mean_eod = np.mean(eod_list)\n",
    "        \n",
    "        # Append results to dataframe\n",
    "        new_result  = pd.DataFrame([[C, solver, mean_accuracy, mean_eod]], columns=['C', 'Solver','Mean accuracy', 'Mean EOD'])\n",
    "        results = pd.concat([results, new_result], ignore_index=True)"
   ]
  },
  {
   "cell_type": "markdown",
   "metadata": {},
   "source": [
    "### Results Analysis"
   ]
  },
  {
   "cell_type": "code",
   "execution_count": 74,
   "metadata": {},
   "outputs": [
    {
     "name": "stdout",
     "output_type": "stream",
     "text": [
      "Best accuracy:\n",
      "         C     Solver  Mean accuracy  Mean EOD\n",
      "25  0.001  newton-cg        0.72007 -0.018474\n",
      "29  0.001       saga        0.72007 -0.018457 \n",
      "\n",
      "Best EOD:\n",
      "        C Solver  Mean accuracy  Mean EOD\n",
      "34  0.01   saga       0.719925 -0.022143 \n",
      "\n",
      "Lowest non-zero EOD:\n",
      "         C Solver  Mean accuracy  Mean EOD\n",
      "28  0.001    sag       0.720036 -0.018224 \n",
      "\n"
     ]
    }
   ],
   "source": [
    "# find highest accuracy and lowest EOD\n",
    "highest_accuracy = results['Mean accuracy'].max()\n",
    "lowest_eod = results['Mean EOD'].min() \n",
    "\n",
    "# find lowest EOD that is not 0\n",
    "lowest_nonzero_eod = results.loc[results['Mean EOD'] != 0]['Mean EOD'].abs().min()\n",
    "\n",
    "# find the corresponding C and solver values\n",
    "best_accuracy = results.loc[results['Mean accuracy'] == highest_accuracy]\n",
    "best_eod = results.loc[results['Mean EOD'] == lowest_eod]\n",
    "best_nonzero_eod = results.loc[(results['Mean EOD'] == lowest_nonzero_eod) | (results['Mean EOD'] == -lowest_nonzero_eod)]\n",
    "\n",
    "print(f\"Best accuracy:\\n\", best_accuracy, f'\\n')\n",
    "print(f\"Best EOD:\\n\", best_eod, f'\\n')\n",
    "print(f\"Lowest non-zero EOD:\\n\", best_nonzero_eod, f'\\n')"
   ]
  },
  {
   "cell_type": "markdown",
   "metadata": {},
   "source": [
    "### Test Results"
   ]
  },
  {
   "cell_type": "code",
   "execution_count": 22,
   "metadata": {},
   "outputs": [
    {
     "name": "stdout",
     "output_type": "stream",
     "text": [
      "Most accurate model:\n",
      "Accuracy: 0.7197760599298693\n",
      "EOD: 0.004663503874752228 \n",
      "\n",
      "Best EOD model:\n",
      "Accuracy: 0.525880618425247\n",
      "EOD: 0.0\n"
     ]
    }
   ],
   "source": [
    "# Load the best model\n",
    "model_accuracy = joblib.load('fair_model_accuracy.joblib')\n",
    "model_eod = joblib.load('fair_model_eod.joblib')\n",
    "\n",
    "# Normalize the test dataset\n",
    "scale_orig = StandardScaler()\n",
    "x_test = scale_orig.fit_transform(test_data.features)\n",
    "y_test = test_data.labels.ravel()\n",
    "\n",
    "# Model prediction\n",
    "predictions_accuracy = model_accuracy.predict(x_test)\n",
    "predictions_eod = model_eod.predict(x_test)\n",
    "\n",
    "# Create test dataset with predictions\n",
    "test_pred_accuracy = test_data.copy()\n",
    "test_pred_accuracy.labels = predictions_accuracy\n",
    "test_pred_eod = test_data.copy()\n",
    "test_pred_eod.labels = predictions_eod\n",
    "\n",
    "# Metrics\n",
    "metrics_best_accuracy = ClassificationMetric(test_data, test_pred_accuracy, unprivileged_groups=unprivileged_groups, privileged_groups=privileged_groups)\n",
    "best_accuracy_accuracy = metrics_best_accuracy.accuracy()\n",
    "best_accuracy_eod = metrics_best_accuracy.equal_opportunity_difference()\n",
    "\n",
    "metrics_best_eod = ClassificationMetric(test_data, test_pred_eod, unprivileged_groups=unprivileged_groups, privileged_groups=privileged_groups)\n",
    "best_eod_accuracy = metrics_best_eod.accuracy()\n",
    "best_eod_eod = metrics_best_eod.equal_opportunity_difference()\n",
    "\n",
    "# Print results\n",
    "print(\"Most accurate model:\")\n",
    "print(f\"Accuracy: {best_accuracy_accuracy}\")\n",
    "print(f\"EOD: {best_accuracy_eod}\", f'\\n')\n",
    "print(\"Best EOD model:\")\n",
    "print(f\"Accuracy: {best_eod_accuracy}\")\n",
    "print(f\"EOD: {best_eod_eod}\")"
   ]
  },
  {
   "cell_type": "markdown",
   "metadata": {},
   "source": [
    "# Task 3"
   ]
  },
  {
   "cell_type": "code",
   "execution_count": null,
   "metadata": {},
   "outputs": [],
   "source": []
  }
 ],
 "metadata": {
  "kernelspec": {
   "display_name": "venv",
   "language": "python",
   "name": "python3"
  },
  "language_info": {
   "codemirror_mode": {
    "name": "ipython",
    "version": 3
   },
   "file_extension": ".py",
   "mimetype": "text/x-python",
   "name": "python",
   "nbconvert_exporter": "python",
   "pygments_lexer": "ipython3",
   "version": "3.11.5"
  }
 },
 "nbformat": 4,
 "nbformat_minor": 2
}
