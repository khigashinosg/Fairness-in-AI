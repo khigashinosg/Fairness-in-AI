{
 "cells": [
  {
   "cell_type": "markdown",
   "metadata": {},
   "source": [
    "# Imports"
   ]
  },
  {
   "cell_type": "code",
   "execution_count": 2,
   "metadata": {},
   "outputs": [
    {
     "name": "stderr",
     "output_type": "stream",
     "text": [
      "WARNING:root:No module named 'tempeh': LawSchoolGPADataset will be unavailable. To install, run:\n",
      "pip install 'aif360[LawSchoolGPA]'\n",
      "WARNING:root:No module named 'tensorflow': AdversarialDebiasing will be unavailable. To install, run:\n",
      "pip install 'aif360[AdversarialDebiasing]'\n",
      "WARNING:root:No module named 'tensorflow': AdversarialDebiasing will be unavailable. To install, run:\n",
      "pip install 'aif360[AdversarialDebiasing]'\n",
      "WARNING:root:No module named 'fairlearn': ExponentiatedGradientReduction will be unavailable. To install, run:\n",
      "pip install 'aif360[Reductions]'\n",
      "WARNING:root:No module named 'fairlearn': GridSearchReduction will be unavailable. To install, run:\n",
      "pip install 'aif360[Reductions]'\n",
      "WARNING:root:No module named 'fairlearn': GridSearchReduction will be unavailable. To install, run:\n",
      "pip install 'aif360[Reductions]'\n"
     ]
    }
   ],
   "source": [
    "from folktables import folktables\n",
    "from folktables import ACSDataSource\n",
    "import numpy as np\n",
    "from custom_functions import *\n",
    "from aif360.datasets import StandardDataset\n",
    "from sklearn.linear_model import LogisticRegression\n",
    "from sklearn.preprocessing import StandardScaler\n",
    "from aif360.metrics import ClassificationMetric\n",
    "import pandas as pd\n",
    "import joblib\n",
    "from aif360.algorithms.preprocessing import Reweighing\n",
    "import matplotlib.pyplot as plt"
   ]
  },
  {
   "cell_type": "markdown",
   "metadata": {},
   "source": [
    "# Data Setup Code (from Spec Sheet)"
   ]
  },
  {
   "cell_type": "code",
   "execution_count": 3,
   "metadata": {},
   "outputs": [
    {
     "name": "stderr",
     "output_type": "stream",
     "text": [
      "/Users/kyhi2018/Desktop/Imperial/Ethics, Fairness, and Explainability in AI/CW1 - Fairness/Fairness-in-AI/venv/lib/python3.11/site-packages/aif360/datasets/standard_dataset.py:143: FutureWarning: Setting an item of incompatible dtype is deprecated and will raise an error in a future version of pandas. Value '1.0' has dtype incompatible with bool, please explicitly cast to a compatible dtype first.\n",
      "  df.loc[pos, label_name] = favorable_label\n"
     ]
    }
   ],
   "source": [
    "# (Age) must be greater than 16 and less than 90,\n",
    "# and (Person weight) must be greater than or equal to 1\n",
    "def employment_filter(data):\n",
    "    \"\"\"Filters for the employment prediction task\"\"\"\n",
    "    df = data\n",
    "    df = df[df['AGEP'] > 16]\n",
    "    df = df[df['AGEP'] < 90]\n",
    "    df = df[df['PWGTP'] >= 1]\n",
    "    return df\n",
    "\n",
    "ACSEmployment = folktables.BasicProblem(\n",
    "    features=[\n",
    "        'AGEP',  # age; for range of values of features please check Appendix B.4 of Retiring Adult: New Datasets for Fair Machine Learning NeurIPS 2021 paper\n",
    "        'SCHL',  # educational attainment\n",
    "        'MAR',   # marital status\n",
    "        'RELP',  # relationship\n",
    "        'DIS',   # disability recode\n",
    "        'ESP',   # employment status of parents\n",
    "        'CIT',   # citizenship status\n",
    "        'MIG',   # mobility status (lived here 1 year ago)\n",
    "        'MIL',   # military service\n",
    "        'ANC',   # ancestry recode\n",
    "        'NATIVITY',  # nativity\n",
    "        'DEAR',   # hearing difficulty\n",
    "        'DEYE',   # vision difficulty\n",
    "        'DREM',   # cognitive difficulty\n",
    "        'SEX',    # sex\n",
    "        'RAC1P',  # recoded detailed race code\n",
    "        'GCL',    # grandparents living with grandchildren\n",
    "    ],\n",
    "    target='ESR',  # employment status recode\n",
    "    target_transform=lambda x: x == 1,\n",
    "    group='DIS',\n",
    "    preprocess=employment_filter,\n",
    "    postprocess=lambda x: np.nan_to_num(x, -1),\n",
    ")\n",
    "\n",
    "data_source = ACSDataSource(survey_year='2018', horizon='1-Year', survey='person')\n",
    "acs_data = data_source.get_data(states=[\"FL\"], download=True)  # data for Florida state\n",
    "\n",
    "features, label, group = ACSEmployment.df_to_numpy(acs_data)\n",
    "\n",
    "data = pd.DataFrame(features, columns=ACSEmployment.features)\n",
    "data['label'] = label\n",
    "\n",
    "favorable_classes = [True]\n",
    "protected_attribute_names = [ACSEmployment.group]\n",
    "privileged_classes = np.array([[1]])\n",
    "\n",
    "data_for_aif = StandardDataset(\n",
    "    data,\n",
    "    label_name='label',\n",
    "    favorable_classes=favorable_classes,\n",
    "    protected_attribute_names=protected_attribute_names,\n",
    "    privileged_classes=privileged_classes\n",
    ")\n",
    "\n",
    "privileged_groups = [{'DIS': 1}]\n",
    "unprivileged_groups = [{'DIS': 2}]"
   ]
  },
  {
   "cell_type": "markdown",
   "metadata": {},
   "source": [
    "# Task 1"
   ]
  },
  {
   "cell_type": "code",
   "execution_count": 4,
   "metadata": {},
   "outputs": [
    {
     "name": "stdout",
     "output_type": "stream",
     "text": [
      "reweight = False\n",
      "Training model with C = 1e-06 and solver = newton-cg\n"
     ]
    },
    {
     "name": "stderr",
     "output_type": "stream",
     "text": [
      "/Users/kyhi2018/Desktop/Imperial/Ethics, Fairness, and Explainability in AI/CW1 - Fairness/Fairness-in-AI/custom_functions.py:95: FutureWarning: The behavior of DataFrame concatenation with empty or all-NA entries is deprecated. In a future version, this will no longer exclude empty or all-NA columns when determining the result dtypes. To retain the old behavior, exclude the relevant entries before the concat operation.\n",
      "  results = pd.concat([results, new_result], ignore_index=True)\n"
     ]
    },
    {
     "name": "stdout",
     "output_type": "stream",
     "text": [
      "Training model with C = 1e-06 and solver = lbfgs\n",
      "Training model with C = 1e-06 and solver = liblinear\n",
      "Training model with C = 1e-06 and solver = sag\n",
      "Training model with C = 1e-06 and solver = saga\n",
      "Training model with C = 1e-05 and solver = newton-cg\n",
      "Training model with C = 1e-05 and solver = lbfgs\n",
      "Training model with C = 1e-05 and solver = liblinear\n",
      "Training model with C = 1e-05 and solver = sag\n",
      "Training model with C = 1e-05 and solver = saga\n",
      "Training model with C = 0.0001 and solver = newton-cg\n",
      "Training model with C = 0.0001 and solver = lbfgs\n",
      "Training model with C = 0.0001 and solver = liblinear\n",
      "Training model with C = 0.0001 and solver = sag\n",
      "Training model with C = 0.0001 and solver = saga\n",
      "Training model with C = 0.001 and solver = newton-cg\n",
      "Training model with C = 0.001 and solver = lbfgs\n",
      "Training model with C = 0.001 and solver = liblinear\n",
      "Training model with C = 0.001 and solver = sag\n",
      "Training model with C = 0.001 and solver = saga\n",
      "Training model with C = 0.01 and solver = newton-cg\n",
      "Training model with C = 0.01 and solver = lbfgs\n",
      "Training model with C = 0.01 and solver = liblinear\n",
      "Training model with C = 0.01 and solver = sag\n",
      "Training model with C = 0.01 and solver = saga\n",
      "Training model with C = 0.1 and solver = newton-cg\n",
      "Training model with C = 0.1 and solver = lbfgs\n",
      "Training model with C = 0.1 and solver = liblinear\n",
      "Training model with C = 0.1 and solver = sag\n",
      "Training model with C = 0.1 and solver = saga\n",
      "Training model with C = 1 and solver = newton-cg\n",
      "Training model with C = 1 and solver = lbfgs\n",
      "Training model with C = 1 and solver = liblinear\n",
      "Training model with C = 1 and solver = sag\n",
      "Training model with C = 1 and solver = saga\n"
     ]
    }
   ],
   "source": [
    "# Split the dataset into train-val and test sets\n",
    "train_and_val_data_2, test_data_1 = data_for_aif.split([0.7], shuffle=True, seed=0)\n",
    "\n",
    "# Apply grid search and randomised train-val splits, saving all results and exporting best models\n",
    "cc_style = 'weighted_with_penalty'\n",
    "task_1_results = grid_search_models(train_and_val_data_2, custom_criterion_style=cc_style)"
   ]
  },
  {
   "cell_type": "markdown",
   "metadata": {},
   "source": [
    "### Training and Validation Results"
   ]
  },
  {
   "cell_type": "code",
   "execution_count": 19,
   "metadata": {},
   "outputs": [
    {
     "name": "stdout",
     "output_type": "stream",
     "text": [
      "[0.50250608]\n",
      "[0.38422577]\n",
      "[0.36702727]\n",
      "[0.51970459]\n",
      "Best accuracy:\n",
      "        C Solver  Mean accuracy  Mean EOD  Mean custom criterion\n",
      "21  0.01  lbfgs       0.751253  0.615774               0.519705 \n",
      "\n",
      "Best EOD:\n",
      "           C     Solver  Mean accuracy  Mean EOD  Mean custom criterion\n",
      "0  0.000001  newton-cg       0.542484  0.019263               0.627452\n",
      "1  0.000001      lbfgs       0.542262  0.019263               0.626786\n",
      "4  0.000001       saga       0.542390  0.019263               0.627170 \n",
      "\n",
      "Lowest non-zero EOD:\n",
      "           C     Solver  Mean accuracy  Mean EOD  Mean custom criterion\n",
      "0  0.000001  newton-cg       0.542484  0.019263               0.627452\n",
      "1  0.000001      lbfgs       0.542262  0.019263               0.626786\n",
      "4  0.000001       saga       0.542390  0.019263               0.627170 \n",
      "\n",
      "Best criterion (weighted_with_penalty):\n",
      "           C Solver  Mean accuracy  Mean EOD  Mean custom criterion\n",
      "3  0.000001    sag       0.542894  0.020327               0.628681 \n",
      "\n",
      "           C     Solver  Mean accuracy  Mean EOD  Mean custom criterion\n",
      "0   0.000001  newton-cg       0.542484  0.019263               0.627452\n",
      "1   0.000001      lbfgs       0.542262  0.019263               0.626786\n",
      "2   0.000001  liblinear       0.728011  0.872606              -0.017202\n",
      "3   0.000001        sag       0.542894  0.020327               0.628681\n",
      "4   0.000001       saga       0.542390  0.019263               0.627170\n",
      "5   0.000010  newton-cg       0.693959  0.891340              -0.088722\n",
      "6   0.000010      lbfgs       0.693899  0.891110              -0.088320\n",
      "7   0.000010  liblinear       0.732750  0.866173               0.000404\n",
      "8   0.000010        sag       0.694215  0.891219              -0.088224\n",
      "9   0.000010       saga       0.693950  0.891075              -0.088200\n",
      "10  0.000100  newton-cg       0.742663  0.787601               0.167460\n",
      "11  0.000100      lbfgs       0.742689  0.787654               0.167382\n",
      "12  0.000100  liblinear       0.743628  0.785420               0.172787\n",
      "13  0.000100        sag       0.742689  0.787515               0.167659\n",
      "14  0.000100       saga       0.742638  0.787601               0.167435\n",
      "15  0.001000  newton-cg       0.751022  0.652050               0.446923\n",
      "16  0.001000      lbfgs       0.750988  0.652286               0.446417\n",
      "17  0.001000  liblinear       0.751202  0.652404               0.446394\n",
      "18  0.001000        sag       0.751022  0.652101               0.446820\n",
      "19  0.001000       saga       0.751022  0.652320               0.446382\n",
      "20  0.010000  newton-cg       0.751202  0.615131               0.520940\n",
      "21  0.010000      lbfgs       0.751253  0.615774               0.519705\n",
      "22  0.010000  liblinear       0.751202  0.615027               0.521147\n",
      "23  0.010000        sag       0.751185  0.615148               0.520889\n",
      "24  0.010000       saga       0.751193  0.615113               0.520966\n",
      "25  0.100000  newton-cg       0.750903  0.611918               0.527067\n",
      "26  0.100000      lbfgs       0.750869  0.612218               0.526433\n",
      "27  0.100000  liblinear       0.750886  0.611901               0.527085\n",
      "28  0.100000        sag       0.750877  0.611901               0.527076\n",
      "29  0.100000       saga       0.750877  0.611901               0.527076\n",
      "30  1.000000  newton-cg       0.750852  0.611498               0.527856\n",
      "31  1.000000      lbfgs       0.750860  0.611850               0.527161\n",
      "32  1.000000  liblinear       0.750860  0.611550               0.527760\n",
      "33  1.000000        sag       0.750826  0.611498               0.527830\n",
      "34  1.000000       saga       0.750869  0.611567               0.527734\n"
     ]
    },
    {
     "data": {
      "image/png": "[encoded data removed]",
      "text/plain": [
       "<Figure size 500x250 with 1 Axes>"
      ]
     },
     "metadata": {},
     "output_type": "display_data"
    },
    {
     "data": {
      "image/png": "[encoded data removed]",
      "text/plain": [
       "<Figure size 500x250 with 1 Axes>"
      ]
     },
     "metadata": {},
     "output_type": "display_data"
    }
   ],
   "source": [
    "# Find the best model\n",
    "best_accuracy_1, best_eod_1, best_nonzero_eod_1, best_cc_1 = find_best_results(task_1_results)\n",
    "\n",
    "cc = lambda accuracy, fairness: max(0,(2*accuracy - 1)) + fairness - (abs(accuracy - fairness))\n",
    "a = best_accuracy_1['Mean accuracy'].values\n",
    "f = 1-best_accuracy_1['Mean EOD'].values\n",
    "print(2*a-1)\n",
    "print(f)\n",
    "print(a-f)\n",
    "answer = cc(a, f)\n",
    "print(answer)\n",
    "\n",
    "\n",
    "# Prine results\n",
    "print(f\"Best accuracy:\\n\", best_accuracy_1, f'\\n')\n",
    "print(f\"Best EOD:\\n\", best_eod_1, f'\\n')\n",
    "print(f\"Lowest non-zero EOD:\\n\", best_nonzero_eod_1, f'\\n')\n",
    "print(f\"Best criterion ({cc_style}):\\n\", best_cc_1, f'\\n')\n",
    "\n",
    "print(task_1_results)\n",
    "\n",
    "def plot_results(dataset, metric, title, save_pathname):\n",
    "\n",
    "    # Assuming df is your DataFrame with the data\n",
    "    fig, ax = plt.subplots(figsize=(5, 2.5))\n",
    "\n",
    "    # Set labels and title\n",
    "    ax.set_xlabel('C')\n",
    "    ax.set_title(title)\n",
    "\n",
    "    # Group by 'Solver' and plot each group\n",
    "    for solver, group in dataset.groupby('Solver'):\n",
    "        if metric == 'accuracy':\n",
    "            ax.plot(group['C'], group['Mean accuracy'], label=solver)\n",
    "            ax.set_ylabel('Mean Accuracy')\n",
    "        elif metric == 'eod':\n",
    "            ax.plot(group['C'], group['Mean EOD'], label=solver)\n",
    "            ax.set_ylabel('Mean EOD')\n",
    "\n",
    "    # Display legend and grod\n",
    "    ax.legend()\n",
    "    ax.grid()\n",
    "    \n",
    "    # Set logarithmic scale on the x-axis\n",
    "    ax.set_xscale('log')\n",
    "    \n",
    "    # Show the plot\n",
    "    plt.show()\n",
    "\n",
    "    # export the plot to a png file\n",
    "    fig.savefig(save_pathname)\n",
    "\n",
    "plot_results(task_1_results, 'accuracy', 'Accuracy vs C','Task_1_accuracy.png')\n",
    "plot_results(task_1_results, 'eod', 'EOD vs C','Task_1_eod.png')"
   ]
  },
  {
   "cell_type": "markdown",
   "metadata": {},
   "source": [
    "### Performance on Held-out Test Set"
   ]
  },
  {
   "cell_type": "code",
   "execution_count": 25,
   "metadata": {},
   "outputs": [
    {
     "name": "stdout",
     "output_type": "stream",
     "text": [
      "Most accurate model:\n",
      "Accuracy: 0.7523310487727127\n",
      "EOD: 0.6736529561484942\n",
      "Custom criterion: 0.6725043999780665 \n",
      "\n",
      "Best EOD model:\n",
      "Accuracy: 0.541819413452343\n",
      "EOD: 0.01934235976789167\n",
      "Custom criterion: 1.2552576841394483 \n",
      "\n",
      "Best CC model:\n",
      "Accuracy: 0.5452861013707364\n",
      "EOD: 0.023855577047066423\n",
      "Custom criterion: 1.2501948668102127\n"
     ]
    }
   ],
   "source": [
    "# Metrics for both the best accuracy and best EOD models\n",
    "best_accuracy_accuracy_1, best_accuracy_eod_1, best_accuracy_cc_1 = test_model(test_data_1, 'std_model_accuracy.joblib')\n",
    "best_eod_accuracy_1, best_eod_eod_1, best_eod_cc_1 = test_model(test_data_1, 'std_model_eod.joblib')\n",
    "best_cc_accuracy_1, best_cc_eod_1, best_cc_cc_1 = test_model(test_data_1, 'std_model_cc.joblib')\n",
    "\n",
    "# Print results\n",
    "print(\"Most accurate model:\")\n",
    "print(f\"Accuracy: {best_accuracy_accuracy_1}\")\n",
    "print(f\"EOD: {best_accuracy_eod_1}\")\n",
    "print(f\"Custom criterion: {best_accuracy_cc_1}\", f'\\n')\n",
    "\n",
    "print(\"Best EOD model:\")\n",
    "print(f\"Accuracy: {best_eod_accuracy_1}\")\n",
    "print(f\"EOD: {best_eod_eod_1}\")\n",
    "print(f\"Custom criterion: {best_eod_cc_1}\", f'\\n')\n",
    "\n",
    "print(\"Best CC model:\")\n",
    "print(f\"Accuracy: {best_cc_accuracy_1}\")\n",
    "print(f\"EOD: {best_cc_eod_1}\")\n",
    "print(f\"Custom criterion: {best_cc_cc_1}\")"
   ]
  },
  {
   "cell_type": "markdown",
   "metadata": {},
   "source": [
    "# Task 2"
   ]
  },
  {
   "cell_type": "code",
   "execution_count": null,
   "metadata": {},
   "outputs": [
    {
     "name": "stdout",
     "output_type": "stream",
     "text": [
      "reweight = True\n",
      "Training model with C = 1e-06 and solver = newton-cg\n"
     ]
    },
    {
     "name": "stderr",
     "output_type": "stream",
     "text": [
      "/Users/kyhi2018/Desktop/Imperial/Ethics, Fairness, and Explainability in AI/CW1 - Fairness/Fairness-in-AI/custom_functions.py:94: FutureWarning: The behavior of DataFrame concatenation with empty or all-NA entries is deprecated. In a future version, this will no longer exclude empty or all-NA columns when determining the result dtypes. To retain the old behavior, exclude the relevant entries before the concat operation.\n",
      "  results = pd.concat([results, new_result], ignore_index=True)\n"
     ]
    },
    {
     "name": "stdout",
     "output_type": "stream",
     "text": [
      "Training model with C = 1e-06 and solver = lbfgs\n",
      "Training model with C = 1e-06 and solver = liblinear\n",
      "Training model with C = 1e-06 and solver = sag\n",
      "Training model with C = 1e-06 and solver = saga\n",
      "Training model with C = 1e-05 and solver = newton-cg\n",
      "Training model with C = 1e-05 and solver = lbfgs\n",
      "Training model with C = 1e-05 and solver = liblinear\n",
      "Training model with C = 1e-05 and solver = sag\n",
      "Training model with C = 1e-05 and solver = saga\n",
      "Training model with C = 0.0001 and solver = newton-cg\n",
      "Training model with C = 0.0001 and solver = lbfgs\n",
      "Training model with C = 0.0001 and solver = liblinear\n",
      "Training model with C = 0.0001 and solver = sag\n",
      "Training model with C = 0.0001 and solver = saga\n",
      "Training model with C = 0.001 and solver = newton-cg\n",
      "Training model with C = 0.001 and solver = lbfgs\n",
      "Training model with C = 0.001 and solver = liblinear\n",
      "Training model with C = 0.001 and solver = sag\n",
      "Training model with C = 0.001 and solver = saga\n",
      "Training model with C = 0.01 and solver = newton-cg\n",
      "Training model with C = 0.01 and solver = lbfgs\n",
      "Training model with C = 0.01 and solver = liblinear\n",
      "Training model with C = 0.01 and solver = sag\n",
      "Training model with C = 0.01 and solver = saga\n",
      "Training model with C = 0.1 and solver = newton-cg\n",
      "Training model with C = 0.1 and solver = lbfgs\n",
      "Training model with C = 0.1 and solver = liblinear\n",
      "Training model with C = 0.1 and solver = sag\n",
      "Training model with C = 0.1 and solver = saga\n",
      "Training model with C = 1 and solver = newton-cg\n",
      "Training model with C = 1 and solver = lbfgs\n",
      "Training model with C = 1 and solver = liblinear\n",
      "Training model with C = 1 and solver = sag\n",
      "Training model with C = 1 and solver = saga\n"
     ]
    }
   ],
   "source": [
    "# Split the dataset into train-val and test sets\n",
    "train_and_val_data_2, test_data_2 = data_for_aif.split([0.7], shuffle=True, seed=0)\n",
    "\n",
    "# Apply grid search and randomised train-val splits, saving all results and exporting best models\n",
    "task_2_results = grid_search_models(train_and_val_data_2, reweight=True, custom_criterion_style='weighted_with_penalty')"
   ]
  },
  {
   "cell_type": "markdown",
   "metadata": {},
   "source": [
    "### Training and Validation Results"
   ]
  },
  {
   "cell_type": "code",
   "execution_count": null,
   "metadata": {},
   "outputs": [
    {
     "name": "stdout",
     "output_type": "stream",
     "text": [
      "Best accuracy:\n",
      "         C     Solver  Mean accuracy  Mean EOD  Mean custom criterion\n",
      "15  0.001  newton-cg        0.72007 -0.018474                1.16021\n",
      "19  0.001       saga        0.72007 -0.018457                1.16021 \n",
      "\n",
      "Best EOD:\n",
      "           C     Solver  Mean accuracy  Mean EOD  Mean custom criterion\n",
      "0  0.000001  newton-cg       0.526081       0.0               0.578244\n",
      "1  0.000001      lbfgs       0.526081       0.0               0.578244\n",
      "3  0.000001        sag       0.526081       0.0               0.578244\n",
      "4  0.000001       saga       0.526081       0.0               0.578244 \n",
      "\n",
      "Lowest non-zero EOD:\n",
      "         C Solver  Mean accuracy  Mean EOD  Mean custom criterion\n",
      "18  0.001    sag       0.720036 -0.018224               1.160108 \n",
      "\n",
      "Best criterion (weighted_with_penalty):\n",
      "         C     Solver  Mean accuracy  Mean EOD  Mean custom criterion\n",
      "15  0.001  newton-cg        0.72007 -0.018474                1.16021\n",
      "19  0.001       saga        0.72007 -0.018457                1.16021 \n",
      "\n",
      "           C     Solver  Mean accuracy  Mean EOD  Mean custom criterion\n",
      "0   0.000001  newton-cg       0.526081  0.000000               0.578244\n",
      "1   0.000001      lbfgs       0.526081  0.000000               0.578244\n",
      "2   0.000001  liblinear       0.707723  0.172842               1.123170\n",
      "3   0.000001        sag       0.526081  0.000000               0.578244\n",
      "4   0.000001       saga       0.526081  0.000000               0.578244\n",
      "5   0.000010  newton-cg       0.693780  0.061442               1.081339\n",
      "6   0.000010      lbfgs       0.693763  0.061425               1.081288\n",
      "7   0.000010  liblinear       0.711950  0.117907               1.135849\n",
      "8   0.000010        sag       0.693711  0.061476               1.081134\n",
      "9   0.000010       saga       0.693728  0.061476               1.081185\n",
      "10  0.000100  newton-cg       0.719959  0.018623               1.159877\n",
      "11  0.000100      lbfgs       0.719857  0.018589               1.159570\n",
      "12  0.000100  liblinear       0.719370  0.022260               1.158110\n",
      "13  0.000100        sag       0.719831  0.018564               1.159493\n",
      "14  0.000100       saga       0.719865  0.018520               1.159595\n",
      "15  0.001000  newton-cg       0.720070 -0.018474               1.160210\n",
      "16  0.001000      lbfgs       0.719993 -0.018475               1.159980\n",
      "17  0.001000  liblinear       0.719831 -0.018397               1.159493\n",
      "18  0.001000        sag       0.720036 -0.018224               1.160108\n",
      "19  0.001000       saga       0.720070 -0.018457               1.160210\n",
      "20  0.010000  newton-cg       0.719865 -0.021925               1.159595\n",
      "21  0.010000      lbfgs       0.719925 -0.021775               1.159775\n",
      "22  0.010000  liblinear       0.719908 -0.021725               1.159723\n",
      "23  0.010000        sag       0.719916 -0.021586               1.159749\n",
      "24  0.010000       saga       0.719925 -0.022143               1.159775\n",
      "25  0.100000  newton-cg       0.719746 -0.021418               1.159237\n",
      "26  0.100000      lbfgs       0.719831 -0.020977               1.159493\n",
      "27  0.100000  liblinear       0.719771 -0.021384               1.159313\n",
      "28  0.100000        sag       0.719805 -0.021584               1.159416\n",
      "29  0.100000       saga       0.719805 -0.021297               1.159416\n",
      "30  1.000000  newton-cg       0.719788 -0.021401               1.159365\n",
      "31  1.000000      lbfgs       0.719814 -0.021014               1.159442\n",
      "32  1.000000  liblinear       0.719805 -0.021332               1.159416\n",
      "33  1.000000        sag       0.719797 -0.021366               1.159390\n",
      "34  1.000000       saga       0.719797 -0.021349               1.159390\n"
     ]
    }
   ],
   "source": [
    "# Find the best results\n",
    "best_accuracy_2, best_eod_2, best_nonzero_eod_2, best_cc_2 = find_best_results(task_2_results)\n",
    "\n",
    "# Print results analysis\n",
    "print(f\"Best accuracy:\\n\", best_accuracy_2, f'\\n')\n",
    "print(f\"Best EOD:\\n\", best_eod_2, f'\\n')\n",
    "print(f\"Lowest non-zero EOD:\\n\", best_nonzero_eod_2, f'\\n')\n",
    "print(f\"Best criterion ({cc_style}):\\n\", best_cc_2, f'\\n')\n",
    "\n",
    "print(task_2_results)"
   ]
  },
  {
   "cell_type": "markdown",
   "metadata": {},
   "source": [
    "### Performance on Held-out Test Set"
   ]
  },
  {
   "cell_type": "code",
   "execution_count": null,
   "metadata": {},
   "outputs": [
    {
     "name": "stdout",
     "output_type": "stream",
     "text": [
      "Most accurate model:\n",
      "Accuracy: 0.7197760599298693\n",
      "EOD: 0.004663503874752228 \n",
      "\n",
      "Custom criterion: 1.5087723169670522\n",
      "Best EOD model:\n",
      "Accuracy: 0.525880618425247\n",
      "EOD: 0.0\n",
      "Custom criterion: 1.2765504248353203\n",
      "Best CC model:\n",
      "Accuracy: 0.7197760599298693\n",
      "EOD: 0.004663503874752228 \n",
      "\n",
      "Custom criterion: 1.5087723169670522\n",
      "Most accurate model:\n",
      "Accuracy: 0.7197760599298693\n",
      "EOD: 0.004663503874752228 \n",
      "\n",
      "Best EOD model:\n",
      "Accuracy: 0.525880618425247\n",
      "EOD: 0.0\n"
     ]
    }
   ],
   "source": [
    "# Metrics for both the best accuracy and best EOD models\n",
    "best_accuracy_accuracy_2, best_accuracy_eod_2, best_accuracy_cc_2 = test_model(test_data_2, 'fair_model_accuracy.joblib')\n",
    "best_eod_accuracy_2, best_eod_eod_2, best_eod_cc_2 = test_model(test_data_2, 'fair_model_eod.joblib')\n",
    "best_cc_accuracy_2, best_cc_eod_2, best_cc_cc_2 = test_model(test_data_2, 'fair_model_cc.joblib')\n",
    "\n",
    "# Print results\n",
    "print(\"Most accurate model:\")\n",
    "print(f\"Accuracy: {best_accuracy_accuracy_2}\")\n",
    "print(f\"EOD: {best_accuracy_eod_2}\", f'\\n')\n",
    "print(f\"Custom criterion: {best_accuracy_cc_2}\")\n",
    "\n",
    "print(\"Best EOD model:\")\n",
    "print(f\"Accuracy: {best_eod_accuracy_2}\")\n",
    "print(f\"EOD: {best_eod_eod_2}\")\n",
    "print(f\"Custom criterion: {best_eod_cc_2}\")\n",
    "\n",
    "print(\"Best CC model:\")\n",
    "print(f\"Accuracy: {best_cc_accuracy_2}\")\n",
    "print(f\"EOD: {best_cc_eod_2}\", f'\\n')\n",
    "print(f\"Custom criterion: {best_cc_cc_2}\")\n",
    "# Print results\n",
    "print(\"Most accurate model:\")\n",
    "print(f\"Accuracy: {best_accuracy_accuracy_2}\")\n",
    "print(f\"EOD: {best_accuracy_eod_2}\", f'\\n')\n",
    "print(\"Best EOD model:\")\n",
    "print(f\"Accuracy: {best_eod_accuracy_2}\")\n",
    "print(f\"EOD: {best_eod_eod_2}\")"
   ]
  },
  {
   "cell_type": "markdown",
   "metadata": {},
   "source": [
    "# Task 3"
   ]
  },
  {
   "cell_type": "code",
   "execution_count": null,
   "metadata": {},
   "outputs": [],
   "source": []
  }
 ],
 "metadata": {
  "kernelspec": {
   "display_name": "venv",
   "language": "python",
   "name": "python3"
  },
  "language_info": {
   "codemirror_mode": {
    "name": "ipython",
    "version": 3
   },
   "file_extension": ".py",
   "mimetype": "text/x-python",
   "name": "python",
   "nbconvert_exporter": "python",
   "pygments_lexer": "ipython3",
   "version": "3.11.5"
  }
 },
 "nbformat": 4,
 "nbformat_minor": 2
}
