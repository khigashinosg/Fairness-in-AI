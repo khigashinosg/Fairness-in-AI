{
 "cells": [
  {
   "cell_type": "markdown",
   "metadata": {},
   "source": [
    "# Imports"
   ]
  },
  {
   "cell_type": "code",
   "execution_count": 7,
   "metadata": {},
   "outputs": [],
   "source": [
    "from folktables import folktables\n",
    "from folktables import ACSDataSource\n",
    "import numpy as np\n",
    "from custom_functions import *\n",
    "from aif360.datasets import StandardDataset\n",
    "from sklearn.linear_model import LogisticRegression\n",
    "from sklearn.preprocessing import StandardScaler\n",
    "from aif360.metrics import ClassificationMetric\n",
    "import pandas as pd\n",
    "import joblib\n",
    "from aif360.algorithms.preprocessing import Reweighing"
   ]
  },
  {
   "cell_type": "markdown",
   "metadata": {},
   "source": [
    "# Data Setup Code (from Spec Sheet)"
   ]
  },
  {
   "cell_type": "code",
   "execution_count": 2,
   "metadata": {},
   "outputs": [
    {
     "name": "stderr",
     "output_type": "stream",
     "text": [
      "/Users/kyhi2018/Desktop/Imperial/Ethics, Fairness, and Explainability in AI/CW1 - Fairness/Fairness-in-AI/venv/lib/python3.11/site-packages/aif360/datasets/standard_dataset.py:143: FutureWarning: Setting an item of incompatible dtype is deprecated and will raise an error in a future version of pandas. Value '1.0' has dtype incompatible with bool, please explicitly cast to a compatible dtype first.\n",
      "  df.loc[pos, label_name] = favorable_label\n"
     ]
    }
   ],
   "source": [
    "# (Age) must be greater than 16 and less than 90,\n",
    "# and (Person weight) must be greater than or equal to 1\n",
    "def employment_filter(data):\n",
    "    \"\"\"Filters for the employment prediction task\"\"\"\n",
    "    df = data\n",
    "    df = df[df['AGEP'] > 16]\n",
    "    df = df[df['AGEP'] < 90]\n",
    "    df = df[df['PWGTP'] >= 1]\n",
    "    return df\n",
    "\n",
    "ACSEmployment = folktables.BasicProblem(\n",
    "    features=[\n",
    "        'AGEP',  # age; for range of values of features please check Appendix B.4 of Retiring Adult: New Datasets for Fair Machine Learning NeurIPS 2021 paper\n",
    "        'SCHL',  # educational attainment\n",
    "        'MAR',   # marital status\n",
    "        'RELP',  # relationship\n",
    "        'DIS',   # disability recode\n",
    "        'ESP',   # employment status of parents\n",
    "        'CIT',   # citizenship status\n",
    "        'MIG',   # mobility status (lived here 1 year ago)\n",
    "        'MIL',   # military service\n",
    "        'ANC',   # ancestry recode\n",
    "        'NATIVITY',  # nativity\n",
    "        'DEAR',   # hearing difficulty\n",
    "        'DEYE',   # vision difficulty\n",
    "        'DREM',   # cognitive difficulty\n",
    "        'SEX',    # sex\n",
    "        'RAC1P',  # recoded detailed race code\n",
    "        'GCL',    # grandparents living with grandchildren\n",
    "    ],\n",
    "    target='ESR',  # employment status recode\n",
    "    target_transform=lambda x: x == 1,\n",
    "    group='DIS',\n",
    "    preprocess=employment_filter,\n",
    "    postprocess=lambda x: np.nan_to_num(x, -1),\n",
    ")\n",
    "\n",
    "data_source = ACSDataSource(survey_year='2018', horizon='1-Year', survey='person')\n",
    "acs_data = data_source.get_data(states=[\"FL\"], download=True)  # data for Florida state\n",
    "\n",
    "features, label, group = ACSEmployment.df_to_numpy(acs_data)\n",
    "\n",
    "data = pd.DataFrame(features, columns=ACSEmployment.features)\n",
    "data['label'] = label\n",
    "\n",
    "favorable_classes = [True]\n",
    "protected_attribute_names = [ACSEmployment.group]\n",
    "privileged_classes = np.array([[1]])\n",
    "\n",
    "data_for_aif = StandardDataset(\n",
    "    data,\n",
    "    label_name='label',\n",
    "    favorable_classes=favorable_classes,\n",
    "    protected_attribute_names=protected_attribute_names,\n",
    "    privileged_classes=privileged_classes\n",
    ")\n",
    "\n",
    "privileged_groups = [{'DIS': 1}]\n",
    "unprivileged_groups = [{'DIS': 2}]"
   ]
  },
  {
   "cell_type": "markdown",
   "metadata": {},
   "source": [
    "# Task 1"
   ]
  },
  {
   "cell_type": "code",
   "execution_count": 3,
   "metadata": {},
   "outputs": [
    {
     "name": "stdout",
     "output_type": "stream",
     "text": [
      "Training model with C = 1e-08 and solver = newton-cg\n"
     ]
    },
    {
     "name": "stderr",
     "output_type": "stream",
     "text": [
      "/Users/kyhi2018/Desktop/Imperial/Ethics, Fairness, and Explainability in AI/CW1 - Fairness/Fairness-in-AI/custom_functions.py:72: FutureWarning: The behavior of DataFrame concatenation with empty or all-NA entries is deprecated. In a future version, this will no longer exclude empty or all-NA columns when determining the result dtypes. To retain the old behavior, exclude the relevant entries before the concat operation.\n",
      "  results = pd.concat([results, new_result], ignore_index=True)\n"
     ]
    },
    {
     "name": "stdout",
     "output_type": "stream",
     "text": [
      "Training model with C = 1e-08 and solver = lbfgs\n",
      "Training model with C = 1e-08 and solver = liblinear\n",
      "Training model with C = 1e-08 and solver = sag\n",
      "Training model with C = 1e-08 and solver = saga\n",
      "Training model with C = 1e-07 and solver = newton-cg\n",
      "Training model with C = 1e-07 and solver = lbfgs\n",
      "Training model with C = 1e-07 and solver = liblinear\n",
      "Training model with C = 1e-07 and solver = sag\n",
      "Training model with C = 1e-07 and solver = saga\n",
      "Training model with C = 1e-06 and solver = newton-cg\n",
      "Training model with C = 1e-06 and solver = lbfgs\n",
      "Training model with C = 1e-06 and solver = liblinear\n",
      "Training model with C = 1e-06 and solver = sag\n",
      "Training model with C = 1e-06 and solver = saga\n",
      "Training model with C = 1e-05 and solver = newton-cg\n",
      "Training model with C = 1e-05 and solver = lbfgs\n",
      "Training model with C = 1e-05 and solver = liblinear\n",
      "Training model with C = 1e-05 and solver = sag\n",
      "Training model with C = 1e-05 and solver = saga\n",
      "Training model with C = 0.0001 and solver = newton-cg\n",
      "Training model with C = 0.0001 and solver = lbfgs\n",
      "Training model with C = 0.0001 and solver = liblinear\n",
      "Training model with C = 0.0001 and solver = sag\n",
      "Training model with C = 0.0001 and solver = saga\n",
      "Training model with C = 0.001 and solver = newton-cg\n",
      "Training model with C = 0.001 and solver = lbfgs\n",
      "Training model with C = 0.001 and solver = liblinear\n",
      "Training model with C = 0.001 and solver = sag\n",
      "Training model with C = 0.001 and solver = saga\n",
      "Training model with C = 0.01 and solver = newton-cg\n",
      "Training model with C = 0.01 and solver = lbfgs\n",
      "Training model with C = 0.01 and solver = liblinear\n",
      "Training model with C = 0.01 and solver = sag\n",
      "Training model with C = 0.01 and solver = saga\n",
      "Training model with C = 0.1 and solver = newton-cg\n",
      "Training model with C = 0.1 and solver = lbfgs\n",
      "Training model with C = 0.1 and solver = liblinear\n",
      "Training model with C = 0.1 and solver = sag\n",
      "Training model with C = 0.1 and solver = saga\n",
      "Training model with C = 1 and solver = newton-cg\n",
      "Training model with C = 1 and solver = lbfgs\n",
      "Training model with C = 1 and solver = liblinear\n",
      "Training model with C = 1 and solver = sag\n",
      "Training model with C = 1 and solver = saga\n"
     ]
    }
   ],
   "source": [
    "# Split the dataset into train-val and test sets\n",
    "train_and_val_data, test_data = data_for_aif.split([0.7], shuffle=True, seed=0)\n",
    "\n",
    "results = grid_search_models(train_and_val_data)"
   ]
  },
  {
   "cell_type": "markdown",
   "metadata": {},
   "source": [
    "### Training and Validation Results"
   ]
  },
  {
   "cell_type": "code",
   "execution_count": 4,
   "metadata": {},
   "outputs": [
    {
     "name": "stdout",
     "output_type": "stream",
     "text": [
      "Best accuracy:\n",
      "        C Solver  Mean accuracy  Mean EOD\n",
      "31  0.01  lbfgs       0.751253  0.615774 \n",
      "\n",
      "Best EOD:\n",
      "               C     Solver  Mean accuracy  Mean EOD\n",
      "0  1.000000e-08  newton-cg       0.526081       0.0\n",
      "1  1.000000e-08      lbfgs       0.526081       0.0\n",
      "3  1.000000e-08        sag       0.526081       0.0\n",
      "4  1.000000e-08       saga       0.526081       0.0\n",
      "5  1.000000e-07  newton-cg       0.526081       0.0\n",
      "6  1.000000e-07      lbfgs       0.526081       0.0\n",
      "8  1.000000e-07        sag       0.526081       0.0\n",
      "9  1.000000e-07       saga       0.526081       0.0 \n",
      "\n",
      "Lowest non-zero EOD:\n",
      "            C     Solver  Mean accuracy  Mean EOD\n",
      "10  0.000001  newton-cg       0.542484  0.019263\n",
      "11  0.000001      lbfgs       0.542262  0.019263\n",
      "14  0.000001       saga       0.542390  0.019263 \n",
      "\n"
     ]
    }
   ],
   "source": [
    "# Find highest accuracy and lowest EOD\n",
    "highest_accuracy = results['Mean accuracy'].max()\n",
    "lowest_eod = results['Mean EOD'].min() \n",
    "\n",
    "# Find lowest EOD that is not 0\n",
    "lowest_nonzero_eod = results.loc[results['Mean EOD'] != 0]['Mean EOD'].abs().min()\n",
    "\n",
    "# Find the corresponding C and solver values\n",
    "best_accuracy = results.loc[results['Mean accuracy'] == highest_accuracy]\n",
    "best_eod = results.loc[results['Mean EOD'] == lowest_eod]\n",
    "best_nonzero_eod = results.loc[(results['Mean EOD'] == lowest_nonzero_eod) | (results['Mean EOD'] == -lowest_nonzero_eod)]\n",
    "\n",
    "print(f\"Best accuracy:\\n\", best_accuracy, f'\\n')\n",
    "print(f\"Best EOD:\\n\", best_eod, f'\\n')\n",
    "print(f\"Lowest non-zero EOD:\\n\", best_nonzero_eod, f'\\n')"
   ]
  },
  {
   "cell_type": "markdown",
   "metadata": {},
   "source": [
    "### Test Results"
   ]
  },
  {
   "cell_type": "code",
   "execution_count": 5,
   "metadata": {},
   "outputs": [
    {
     "name": "stdout",
     "output_type": "stream",
     "text": [
      "Most accurate model:\n",
      "Accuracy: 0.7523310487727127\n",
      "EOD: 0.6736529561484942 \n",
      "\n",
      "Best EOD model:\n",
      "Accuracy: 0.525880618425247\n",
      "EOD: 0.0\n"
     ]
    }
   ],
   "source": [
    "# Load the best model\n",
    "model_accuracy = joblib.load('std_model_accuracy.joblib')\n",
    "model_eod = joblib.load('std_model_eod.joblib')\n",
    "\n",
    "# Normalize the test dataset\n",
    "scale_orig = StandardScaler()\n",
    "x_test = scale_orig.fit_transform(test_data.features)\n",
    "y_test = test_data.labels.ravel()\n",
    "\n",
    "# Model prediction\n",
    "predictions_accuracy = model_accuracy.predict(x_test)\n",
    "predictions_eod = model_eod.predict(x_test)\n",
    "\n",
    "# Create test dataset with predictions\n",
    "test_pred_accuracy = test_data.copy()\n",
    "test_pred_accuracy.labels = predictions_accuracy\n",
    "test_pred_eod = test_data.copy()\n",
    "test_pred_eod.labels = predictions_eod\n",
    "\n",
    "# Metrics\n",
    "metrics_best_accuracy = ClassificationMetric(test_data, test_pred_accuracy, unprivileged_groups=unprivileged_groups, privileged_groups=privileged_groups)\n",
    "best_accuracy_accuracy = metrics_best_accuracy.accuracy()\n",
    "best_accuracy_eod = metrics_best_accuracy.equal_opportunity_difference()\n",
    "\n",
    "metrics_best_eod = ClassificationMetric(test_data, test_pred_eod, unprivileged_groups=unprivileged_groups, privileged_groups=privileged_groups)\n",
    "best_eod_accuracy = metrics_best_eod.accuracy()\n",
    "best_eod_eod = metrics_best_eod.equal_opportunity_difference()\n",
    "\n",
    "# Print results\n",
    "print(\"Most accurate model:\")\n",
    "print(f\"Accuracy: {best_accuracy_accuracy}\")\n",
    "print(f\"EOD: {best_accuracy_eod}\", f'\\n')\n",
    "print(\"Best EOD model:\")\n",
    "print(f\"Accuracy: {best_eod_accuracy}\")\n",
    "print(f\"EOD: {best_eod_eod}\")\n"
   ]
  },
  {
   "cell_type": "markdown",
   "metadata": {},
   "source": [
    "# Task 2"
   ]
  },
  {
   "cell_type": "code",
   "execution_count": 8,
   "metadata": {},
   "outputs": [
    {
     "name": "stdout",
     "output_type": "stream",
     "text": [
      "Training model with C = 1e-08 and solver = newton-cg\n"
     ]
    },
    {
     "name": "stderr",
     "output_type": "stream",
     "text": [
      "/Users/kyhi2018/Desktop/Imperial/Ethics, Fairness, and Explainability in AI/CW1 - Fairness/Fairness-in-AI/custom_functions.py:72: FutureWarning: The behavior of DataFrame concatenation with empty or all-NA entries is deprecated. In a future version, this will no longer exclude empty or all-NA columns when determining the result dtypes. To retain the old behavior, exclude the relevant entries before the concat operation.\n",
      "  results = pd.concat([results, new_result], ignore_index=True)\n"
     ]
    },
    {
     "name": "stdout",
     "output_type": "stream",
     "text": [
      "Training model with C = 1e-08 and solver = lbfgs\n",
      "Training model with C = 1e-08 and solver = liblinear\n",
      "Training model with C = 1e-08 and solver = sag\n",
      "Training model with C = 1e-08 and solver = saga\n",
      "Training model with C = 1e-07 and solver = newton-cg\n",
      "Training model with C = 1e-07 and solver = lbfgs\n",
      "Training model with C = 1e-07 and solver = liblinear\n",
      "Training model with C = 1e-07 and solver = sag\n",
      "Training model with C = 1e-07 and solver = saga\n",
      "Training model with C = 1e-06 and solver = newton-cg\n",
      "Training model with C = 1e-06 and solver = lbfgs\n",
      "Training model with C = 1e-06 and solver = liblinear\n",
      "Training model with C = 1e-06 and solver = sag\n",
      "Training model with C = 1e-06 and solver = saga\n",
      "Training model with C = 1e-05 and solver = newton-cg\n",
      "Training model with C = 1e-05 and solver = lbfgs\n",
      "Training model with C = 1e-05 and solver = liblinear\n",
      "Training model with C = 1e-05 and solver = sag\n",
      "Training model with C = 1e-05 and solver = saga\n",
      "Training model with C = 0.0001 and solver = newton-cg\n",
      "Training model with C = 0.0001 and solver = lbfgs\n",
      "Training model with C = 0.0001 and solver = liblinear\n",
      "Training model with C = 0.0001 and solver = sag\n",
      "Training model with C = 0.0001 and solver = saga\n",
      "Training model with C = 0.001 and solver = newton-cg\n",
      "Training model with C = 0.001 and solver = lbfgs\n",
      "Training model with C = 0.001 and solver = liblinear\n",
      "Training model with C = 0.001 and solver = sag\n",
      "Training model with C = 0.001 and solver = saga\n",
      "Training model with C = 0.01 and solver = newton-cg\n",
      "Training model with C = 0.01 and solver = lbfgs\n",
      "Training model with C = 0.01 and solver = liblinear\n",
      "Training model with C = 0.01 and solver = sag\n",
      "Training model with C = 0.01 and solver = saga\n",
      "Training model with C = 0.1 and solver = newton-cg\n",
      "Training model with C = 0.1 and solver = lbfgs\n",
      "Training model with C = 0.1 and solver = liblinear\n",
      "Training model with C = 0.1 and solver = sag\n",
      "Training model with C = 0.1 and solver = saga\n",
      "Training model with C = 1 and solver = newton-cg\n",
      "Training model with C = 1 and solver = lbfgs\n",
      "Training model with C = 1 and solver = liblinear\n",
      "Training model with C = 1 and solver = sag\n",
      "Training model with C = 1 and solver = saga\n"
     ]
    }
   ],
   "source": [
    "# Split the dataset into train-val and test sets\n",
    "train_and_val_data, test_data = data_for_aif.split([0.7], shuffle=True, seed=0)\n",
    "\n",
    "results = grid_search_models(train_and_val_data, reweight=True)"
   ]
  },
  {
   "cell_type": "markdown",
   "metadata": {},
   "source": [
    "### Results Analysis"
   ]
  },
  {
   "cell_type": "code",
   "execution_count": null,
   "metadata": {},
   "outputs": [
    {
     "name": "stdout",
     "output_type": "stream",
     "text": [
      "Best accuracy:\n",
      "         C     Solver  Mean accuracy  Mean EOD\n",
      "25  0.001  newton-cg        0.72007 -0.018474\n",
      "29  0.001       saga        0.72007 -0.018457 \n",
      "\n",
      "Best EOD:\n",
      "        C Solver  Mean accuracy  Mean EOD\n",
      "34  0.01   saga       0.719925 -0.022143 \n",
      "\n",
      "Lowest non-zero EOD:\n",
      "         C Solver  Mean accuracy  Mean EOD\n",
      "28  0.001    sag       0.720036 -0.018224 \n",
      "\n"
     ]
    }
   ],
   "source": [
    "# find highest accuracy and lowest EOD\n",
    "highest_accuracy = results['Mean accuracy'].max()\n",
    "lowest_eod = results['Mean EOD'].min() \n",
    "\n",
    "# find lowest EOD that is not 0\n",
    "lowest_nonzero_eod = results.loc[results['Mean EOD'] != 0]['Mean EOD'].abs().min()\n",
    "\n",
    "# find the corresponding C and solver values\n",
    "best_accuracy = results.loc[results['Mean accuracy'] == highest_accuracy]\n",
    "best_eod = results.loc[results['Mean EOD'] == lowest_eod]\n",
    "best_nonzero_eod = results.loc[(results['Mean EOD'] == lowest_nonzero_eod) | (results['Mean EOD'] == -lowest_nonzero_eod)]\n",
    "\n",
    "print(f\"Best accuracy:\\n\", best_accuracy, f'\\n')\n",
    "print(f\"Best EOD:\\n\", best_eod, f'\\n')\n",
    "print(f\"Lowest non-zero EOD:\\n\", best_nonzero_eod, f'\\n')"
   ]
  },
  {
   "cell_type": "markdown",
   "metadata": {},
   "source": [
    "### Test Results"
   ]
  },
  {
   "cell_type": "code",
   "execution_count": null,
   "metadata": {},
   "outputs": [
    {
     "name": "stdout",
     "output_type": "stream",
     "text": [
      "Most accurate model:\n",
      "Accuracy: 0.7197760599298693\n",
      "EOD: 0.004663503874752228 \n",
      "\n",
      "Best EOD model:\n",
      "Accuracy: 0.525880618425247\n",
      "EOD: 0.0\n"
     ]
    }
   ],
   "source": [
    "# Load the best model\n",
    "model_accuracy = joblib.load('fair_model_accuracy.joblib')\n",
    "model_eod = joblib.load('fair_model_eod.joblib')\n",
    "\n",
    "# Normalize the test dataset\n",
    "scale_orig = StandardScaler()\n",
    "x_test = scale_orig.fit_transform(test_data.features)\n",
    "y_test = test_data.labels.ravel()\n",
    "\n",
    "# Model prediction\n",
    "predictions_accuracy = model_accuracy.predict(x_test)\n",
    "predictions_eod = model_eod.predict(x_test)\n",
    "\n",
    "# Create test dataset with predictions\n",
    "test_pred_accuracy = test_data.copy()\n",
    "test_pred_accuracy.labels = predictions_accuracy\n",
    "test_pred_eod = test_data.copy()\n",
    "test_pred_eod.labels = predictions_eod\n",
    "\n",
    "# Metrics\n",
    "metrics_best_accuracy = ClassificationMetric(test_data, test_pred_accuracy, unprivileged_groups=unprivileged_groups, privileged_groups=privileged_groups)\n",
    "best_accuracy_accuracy = metrics_best_accuracy.accuracy()\n",
    "best_accuracy_eod = metrics_best_accuracy.equal_opportunity_difference()\n",
    "\n",
    "metrics_best_eod = ClassificationMetric(test_data, test_pred_eod, unprivileged_groups=unprivileged_groups, privileged_groups=privileged_groups)\n",
    "best_eod_accuracy = metrics_best_eod.accuracy()\n",
    "best_eod_eod = metrics_best_eod.equal_opportunity_difference()\n",
    "\n",
    "# Print results\n",
    "print(\"Most accurate model:\")\n",
    "print(f\"Accuracy: {best_accuracy_accuracy}\")\n",
    "print(f\"EOD: {best_accuracy_eod}\", f'\\n')\n",
    "print(\"Best EOD model:\")\n",
    "print(f\"Accuracy: {best_eod_accuracy}\")\n",
    "print(f\"EOD: {best_eod_eod}\")"
   ]
  },
  {
   "cell_type": "markdown",
   "metadata": {},
   "source": [
    "# Task 3"
   ]
  },
  {
   "cell_type": "code",
   "execution_count": null,
   "metadata": {},
   "outputs": [],
   "source": []
  }
 ],
 "metadata": {
  "kernelspec": {
   "display_name": "venv",
   "language": "python",
   "name": "python3"
  },
  "language_info": {
   "codemirror_mode": {
    "name": "ipython",
    "version": 3
   },
   "file_extension": ".py",
   "mimetype": "text/x-python",
   "name": "python",
   "nbconvert_exporter": "python",
   "pygments_lexer": "ipython3",
   "version": "3.11.5"
  }
 },
 "nbformat": 4,
 "nbformat_minor": 2
}
